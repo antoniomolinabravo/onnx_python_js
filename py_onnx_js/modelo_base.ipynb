{
  "nbformat": 4,
  "nbformat_minor": 0,
  "metadata": {
    "colab": {
      "provenance": []
    },
    "kernelspec": {
      "name": "python3",
      "display_name": "Python 3"
    },
    "language_info": {
      "name": "python"
    }
  },
  "cells": [
    {
      "cell_type": "code",
      "execution_count": 56,
      "metadata": {
        "colab": {
          "base_uri": "https://localhost:8080/"
        },
        "id": "cbtAupfHAofX",
        "outputId": "5ec3acc1-f75d-4e50-b208-8448e19c2a95"
      },
      "outputs": [
        {
          "output_type": "stream",
          "name": "stdout",
          "text": [
            "x: tensor([[-0.6867]])\n",
            "y: tensor([[-1.6867]])\n"
          ]
        }
      ],
      "source": [
        "import torch\n",
        "import numpy\n",
        "\n",
        "class CustomInverse(torch.nn.Module):\n",
        "    def forward(self, x):\n",
        "        return x - 1\n",
        "        #return torch.inverse(x) + x\n",
        "\n",
        "x = torch.randn(1, 1)\n",
        "print('x:', x)\n",
        "\n",
        "model = CustomInverse()\n",
        "y = model(x)\n",
        "print('y:', y)"
      ]
    },
    {
      "cell_type": "code",
      "source": [
        "import io\n",
        "\n",
        "# Export model to ONNX a variable f tipo archivo en memoria\n",
        "f = io.BytesIO()\n",
        "torch.onnx.export(CustomInverse(), (x,), f)\n",
        "\n",
        "# Export model to ONNX archivo en carpeta\n",
        "filename = './custominverse.onnx'\n",
        "torch.onnx.export(CustomInverse(), (x,), filename)\n",
        "\n",
        "model = CustomInverse()\n",
        "pt_outputs = model(x)\n",
        "print('o:', pt_outputs)"
      ],
      "metadata": {
        "colab": {
          "base_uri": "https://localhost:8080/"
        },
        "id": "OZSoZzrpAvMQ",
        "outputId": "79610852-2574-4823-b538-8f724863d743"
      },
      "execution_count": 57,
      "outputs": [
        {
          "output_type": "stream",
          "name": "stdout",
          "text": [
            "o: tensor([[-1.6867]])\n"
          ]
        }
      ]
    },
    {
      "cell_type": "code",
      "source": [
        "f.getvalue()"
      ],
      "metadata": {
        "colab": {
          "base_uri": "https://localhost:8080/"
        },
        "id": "R89lEhjFCLml",
        "outputId": "41294ee8-3248-4179-97d1-14e8f1d57cc9"
      },
      "execution_count": 64,
      "outputs": [
        {
          "output_type": "execute_result",
          "data": {
            "text/plain": [
              "b'\\x08\\x07\\x12\\x07pytorch\\x1a\\x061.12.1:\\xa5\\x01\\n9\\x12\\x0bonnx::Sub_1\\x1a\\nConstant_0\"\\x08Constant*\\x14\\n\\x05value*\\x08\\x10\\x01J\\x04\\x00\\x00\\x80?\\xa0\\x01\\x04\\n)\\n\\x0bonnx::Sub_0\\n\\x0bonnx::Sub_1\\x12\\x012\\x1a\\x05Sub_1\"\\x03Sub\\x12\\ttorch_jitZ\\x1d\\n\\x0bonnx::Sub_0\\x12\\x0e\\n\\x0c\\x08\\x01\\x12\\x08\\n\\x02\\x08\\x01\\n\\x02\\x08\\x01b\\x13\\n\\x012\\x12\\x0e\\n\\x0c\\x08\\x01\\x12\\x08\\n\\x02\\x08\\x01\\n\\x02\\x08\\x01B\\x02\\x10\\r'"
            ]
          },
          "metadata": {},
          "execution_count": 64
        }
      ]
    },
    {
      "cell_type": "code",
      "source": [
        "pip install onnxruntime"
      ],
      "metadata": {
        "colab": {
          "base_uri": "https://localhost:8080/"
        },
        "id": "fgZLzMcyFq3d",
        "outputId": "d0be7f8e-1851-46ff-9122-b705b7753a05"
      },
      "execution_count": 23,
      "outputs": [
        {
          "output_type": "stream",
          "name": "stdout",
          "text": [
            "Looking in indexes: https://pypi.org/simple, https://us-python.pkg.dev/colab-wheels/public/simple/\n",
            "Collecting onnxruntime\n",
            "  Downloading onnxruntime-1.13.1-cp37-cp37m-manylinux_2_27_x86_64.whl (4.5 MB)\n",
            "\u001b[K     |████████████████████████████████| 4.5 MB 9.1 MB/s \n",
            "\u001b[?25hRequirement already satisfied: packaging in /usr/local/lib/python3.7/dist-packages (from onnxruntime) (21.3)\n",
            "Requirement already satisfied: numpy>=1.21.6 in /usr/local/lib/python3.7/dist-packages (from onnxruntime) (1.21.6)\n",
            "Requirement already satisfied: flatbuffers in /usr/local/lib/python3.7/dist-packages (from onnxruntime) (1.12)\n",
            "Requirement already satisfied: protobuf in /usr/local/lib/python3.7/dist-packages (from onnxruntime) (3.17.3)\n",
            "Collecting coloredlogs\n",
            "  Downloading coloredlogs-15.0.1-py2.py3-none-any.whl (46 kB)\n",
            "\u001b[K     |████████████████████████████████| 46 kB 3.3 MB/s \n",
            "\u001b[?25hRequirement already satisfied: sympy in /usr/local/lib/python3.7/dist-packages (from onnxruntime) (1.7.1)\n",
            "Collecting humanfriendly>=9.1\n",
            "  Downloading humanfriendly-10.0-py2.py3-none-any.whl (86 kB)\n",
            "\u001b[K     |████████████████████████████████| 86 kB 5.2 MB/s \n",
            "\u001b[?25hRequirement already satisfied: pyparsing!=3.0.5,>=2.0.2 in /usr/local/lib/python3.7/dist-packages (from packaging->onnxruntime) (3.0.9)\n",
            "Requirement already satisfied: six>=1.9 in /usr/local/lib/python3.7/dist-packages (from protobuf->onnxruntime) (1.15.0)\n",
            "Requirement already satisfied: mpmath>=0.19 in /usr/local/lib/python3.7/dist-packages (from sympy->onnxruntime) (1.2.1)\n",
            "Installing collected packages: humanfriendly, coloredlogs, onnxruntime\n",
            "Successfully installed coloredlogs-15.0.1 humanfriendly-10.0 onnxruntime-1.13.1\n"
          ]
        }
      ]
    },
    {
      "cell_type": "code",
      "source": [
        "import onnxruntime    # ya no existe en python\n",
        "\n",
        "# Run the exported model with ONNX Runtime\n",
        "ort_sess = onnxruntime.InferenceSession(f.getvalue())\n",
        "ort_inputs = dict((ort_sess.get_inputs()[i].name, input.cpu().numpy()) for i, input in enumerate((x,)))\n",
        "ort_outputs = ort_sess.run(None, ort_inputs)\n",
        "\n",
        "# Validate PyTorch and ONNX Runtime results\n",
        "numpy.testing.assert_allclose(pt_outputs.cpu().numpy(), ort_outputs[0], rtol=1e-03, atol=1e-05)"
      ],
      "metadata": {
        "id": "DjkVuK2NAya2"
      },
      "execution_count": 58,
      "outputs": []
    },
    {
      "cell_type": "code",
      "source": [
        "ort_sess.get_outputs()[0].name, ort_sess.get_outputs()[0].type"
      ],
      "metadata": {
        "colab": {
          "base_uri": "https://localhost:8080/"
        },
        "id": "pnSQ9cuTHO97",
        "outputId": "4fbde519-49bb-46cb-adb7-2b402ccfdbaa"
      },
      "execution_count": 59,
      "outputs": [
        {
          "output_type": "execute_result",
          "data": {
            "text/plain": [
              "('2', 'tensor(float)')"
            ]
          },
          "metadata": {},
          "execution_count": 59
        }
      ]
    },
    {
      "cell_type": "code",
      "source": [
        "ort_sess.get_inputs()[0].name, ort_sess.get_inputs()[0].type"
      ],
      "metadata": {
        "colab": {
          "base_uri": "https://localhost:8080/"
        },
        "id": "AQEcO1VqG0Ll",
        "outputId": "41cedc44-87e3-4de3-9cfb-1a48887e3031"
      },
      "execution_count": 60,
      "outputs": [
        {
          "output_type": "execute_result",
          "data": {
            "text/plain": [
              "('onnx::Sub_0', 'tensor(float)')"
            ]
          },
          "metadata": {},
          "execution_count": 60
        }
      ]
    },
    {
      "cell_type": "code",
      "source": [
        "print('x:', x)\n",
        "for i, inp in enumerate((x,)):\n",
        "  print(i, inp) "
      ],
      "metadata": {
        "colab": {
          "base_uri": "https://localhost:8080/"
        },
        "id": "wnDt1LGIGRet",
        "outputId": "8a32771c-f2a7-4172-8d72-b83f3bc5c040"
      },
      "execution_count": 61,
      "outputs": [
        {
          "output_type": "stream",
          "name": "stdout",
          "text": [
            "x: tensor([[-0.6867]])\n",
            "0 tensor([[-0.6867]])\n"
          ]
        }
      ]
    },
    {
      "cell_type": "code",
      "source": [
        "ort_inputs"
      ],
      "metadata": {
        "colab": {
          "base_uri": "https://localhost:8080/"
        },
        "id": "LivKD1sQGKCO",
        "outputId": "c7b03e2c-749a-455e-a2f8-684007477776"
      },
      "execution_count": 62,
      "outputs": [
        {
          "output_type": "execute_result",
          "data": {
            "text/plain": [
              "{'onnx::Sub_0': array([[-0.68667513]], dtype=float32)}"
            ]
          },
          "metadata": {},
          "execution_count": 62
        }
      ]
    },
    {
      "cell_type": "code",
      "source": [
        "ort_outputs"
      ],
      "metadata": {
        "colab": {
          "base_uri": "https://localhost:8080/"
        },
        "id": "X0iTMmusGBUn",
        "outputId": "44e7f1c6-4c4c-4966-9a09-802056737177"
      },
      "execution_count": 63,
      "outputs": [
        {
          "output_type": "execute_result",
          "data": {
            "text/plain": [
              "[array([[-1.6866751]], dtype=float32)]"
            ]
          },
          "metadata": {},
          "execution_count": 63
        }
      ]
    }
  ]
}